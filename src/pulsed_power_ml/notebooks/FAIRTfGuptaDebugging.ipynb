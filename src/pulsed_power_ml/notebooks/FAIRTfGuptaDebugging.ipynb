{
 "cells": [
  {
   "cell_type": "code",
   "execution_count": 13,
   "metadata": {
    "collapsed": true
   },
   "outputs": [],
   "source": [
    "import matplotlib.pyplot as plt\n",
    "import matplotlib as mpl\n",
    "import numpy as np\n",
    "from sklearn.decomposition import PCA\n",
    "from sklearn.preprocessing import MinMaxScaler"
   ]
  },
  {
   "cell_type": "code",
   "execution_count": 14,
   "outputs": [],
   "source": [
    "import sys\n",
    "sys.path.append(\"../../../\")"
   ],
   "metadata": {
    "collapsed": false
   }
  },
  {
   "cell_type": "code",
   "execution_count": 15,
   "outputs": [],
   "source": [
    "from src.pulsed_power_ml.model_framework.training_data_labelling import trainingdata_switch_detector\n",
    "from src.pulsed_power_ml.model_framework.data_io import read_training_files\n",
    "from src.pulsed_power_ml.models.gupta_model.gupta_utils import read_parameters\n",
    "from src.pulsed_power_ml.model_framework.training_data_labelling import get_switch_features\n",
    "from src.pulsed_power_ml.model_framework.training_data_labelling import make_labeled_training_data\n",
    "from src.pulsed_power_ml.model_framework.training_data_labelling import explode_to_complete_label_vector"
   ],
   "metadata": {
    "collapsed": false
   }
  },
  {
   "cell_type": "code",
   "execution_count": 16,
   "outputs": [],
   "source": [
    "RAW_DATA_BASE_FOLDER = \"../../../../data/raw_data/2022-11-16_training_data/\"\n",
    "TRAINING_DATA_BASE_FOLDER = \"../../../../data/training_data/one_class_per_appliance_training_data/\"\n",
    "APPARENT_POWER_BINARY_PREFIX = \"FFTApparentPower_\"\n",
    "APPARENT_POWER_BINARY_POSTFIX = \"OffOn_FFTSize131072\"\n",
    "PARAMETER_FILE = \"../models/gupta_model/parameters_appliance_types.yml\"\n",
    "OUTPUT_PATH = \"../../assets/pulsed_power_ml/model_evaluation/gupta_model/model_optimization_intermediate_results/\""
   ],
   "metadata": {
    "collapsed": false
   }
  },
  {
   "cell_type": "code",
   "execution_count": 17,
   "outputs": [],
   "source": [
    "features = np.loadtxt(f\"{TRAINING_DATA_BASE_FOLDER}/100_0_split/features.csv\", delimiter=\",\")\n",
    "labels = np.loadtxt(f\"{TRAINING_DATA_BASE_FOLDER}/100_0_split/labels.csv\", delimiter=\",\")\n",
    "nice_labels = np.argmax(labels, axis=1)"
   ],
   "metadata": {
    "collapsed": false
   }
  },
  {
   "cell_type": "code",
   "execution_count": 18,
   "outputs": [],
   "source": [
    "pca = PCA(n_components=2)\n",
    "features_pca = pca.fit_transform(X=features)"
   ],
   "metadata": {
    "collapsed": false
   }
  },
  {
   "cell_type": "markdown",
   "source": [
    "# Make plot"
   ],
   "metadata": {
    "collapsed": false
   }
  },
  {
   "cell_type": "code",
   "execution_count": 19,
   "outputs": [],
   "source": [
    "cmap = mpl.colormaps[\"tab20\"]"
   ],
   "metadata": {
    "collapsed": false
   }
  },
  {
   "cell_type": "code",
   "execution_count": 20,
   "outputs": [],
   "source": [
    "label_map = {\n",
    "  0: \"E ON\",\n",
    "  1: \"F ON \",\n",
    "  2: \"FP ON\",\n",
    "  3: \"H ON\",\n",
    "  4: \"L ON\",\n",
    "  5: \"PS ON\",\n",
    "  6: \"R ON\",\n",
    "  7: \"E OFF\",\n",
    "  8: \"F OFF \",\n",
    "  9: \"FP OFF\",\n",
    "  10: \"H OFF\",\n",
    "  11: \"L OFF\",\n",
    "  12: \"PS OFF\",\n",
    "  13: \"R OFF\"\n",
    "}"
   ],
   "metadata": {
    "collapsed": false
   }
  },
  {
   "cell_type": "code",
   "execution_count": 25,
   "outputs": [],
   "source": [
    "fig = plt.Figure(figsize=(8, 4.5))\n",
    "ax = fig.add_subplot()\n",
    "for data_point, label in zip(features_pca, nice_labels):\n",
    "    if label <= 6:\n",
    "        color_id = label * 2\n",
    "    else:\n",
    "        color_id = (label % 7) * 2 + 1\n",
    "    color = cmap(color_id)\n",
    "    label_txt = label_map[label]\n",
    "    ax.scatter(data_point[0],\n",
    "               data_point[1],\n",
    "               color=color,\n",
    "               label=label_txt,\n",
    "               marker='.')\n",
    "\n",
    "ax.grid(True)\n",
    "ax.legend()\n",
    "fig.savefig(f\"{OUTPUT_PATH}/unscaled_features_pca_appliance_type.pdf\")"
   ],
   "metadata": {
    "collapsed": false
   }
  },
  {
   "cell_type": "code",
   "execution_count": 27,
   "outputs": [],
   "source": [
    "scaler = MinMaxScaler()\n",
    "scaled_features = scaler.fit_transform(features)\n",
    "pca = PCA(n_components=2)\n",
    "scaled_features_pca = pca.fit_transform(scaled_features)\n",
    "\n",
    "\n",
    "fig = plt.Figure(figsize=(16, 9), tight_layout=True)\n",
    "ax = fig.add_subplot()\n",
    "# for data_point, label in zip(scaled_features_pca, nice_labels):\n",
    "#     if label <= 6:\n",
    "#         color_id = label * 2\n",
    "#     else:\n",
    "#         color_id = (label % 7) * 2 + 1\n",
    "#     color = cmap(color_id)\n",
    "#     label_txt = label_map[label]\n",
    "#     ax.scatter(data_point[0],\n",
    "#                data_point[1],\n",
    "#                color=color,\n",
    "#                label=label_txt)\n",
    "\n",
    "for label_id, label_txt in label_map.items():\n",
    "    if label_id <= 6:\n",
    "        color_id = label_id * 2\n",
    "    else:\n",
    "        color_id = (label_id % 7) * 2 + 1\n",
    "    color = cmap(color_id)\n",
    "\n",
    "    ax.scatter(\n",
    "        x=scaled_features_pca[nice_labels==label_id, 0],\n",
    "        y=scaled_features_pca[nice_labels==label_id, 1],\n",
    "        color=color,\n",
    "        label=label_txt,\n",
    "        marker='x'\n",
    "    )\n",
    "\n",
    "ax.grid(True)\n",
    "ax.legend(scatterpoints=1, bbox_to_anchor=[1.05, 1])\n",
    "ax.set_title(\"PCA - Per Appliance Type\")\n",
    "fig.savefig(f\"{OUTPUT_PATH}/scaled_features_pca_appliance_type.pdf\")"
   ],
   "metadata": {
    "collapsed": false
   }
  }
 ],
 "metadata": {
  "kernelspec": {
   "display_name": "Python 3",
   "language": "python",
   "name": "python3"
  },
  "language_info": {
   "codemirror_mode": {
    "name": "ipython",
    "version": 2
   },
   "file_extension": ".py",
   "mimetype": "text/x-python",
   "name": "python",
   "nbconvert_exporter": "python",
   "pygments_lexer": "ipython2",
   "version": "2.7.6"
  }
 },
 "nbformat": 4,
 "nbformat_minor": 0
}
