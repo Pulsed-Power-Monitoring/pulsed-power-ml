{
 "cells": [
  {
   "cell_type": "code",
   "execution_count": 1,
   "outputs": [],
   "source": [
    "from typing import List, Tuple\n",
    "\n",
    "import numpy as np\n",
    "import matplotlib.pyplot as plt\n",
    "import matplotlib as mpl\n",
    "from scipy.fftpack import ifft\n",
    "\n",
    "from sklearn.decomposition import PCA\n",
    "\n",
    "from collections import deque"
   ],
   "metadata": {
    "collapsed": false
   }
  },
  {
   "cell_type": "code",
   "execution_count": 2,
   "outputs": [
    {
     "name": "stderr",
     "output_type": "stream",
     "text": [
      "2023-02-24 11:06:01.085038: I tensorflow/core/platform/cpu_feature_guard.cc:193] This TensorFlow binary is optimized with oneAPI Deep Neural Network Library (oneDNN) to use the following CPU instructions in performance-critical operations:  AVX2\n",
      "To enable them in other operations, rebuild TensorFlow with the appropriate compiler flags.\n",
      "2023-02-24 11:06:01.349967: W tensorflow/compiler/xla/stream_executor/platform/default/dso_loader.cc:64] Could not load dynamic library 'libcudart.so.11.0'; dlerror: libcudart.so.11.0: cannot open shared object file: No such file or directory\n",
      "2023-02-24 11:06:01.350002: I tensorflow/compiler/xla/stream_executor/cuda/cudart_stub.cc:29] Ignore above cudart dlerror if you do not have a GPU set up on your machine.\n",
      "2023-02-24 11:06:02.863854: W tensorflow/compiler/xla/stream_executor/platform/default/dso_loader.cc:64] Could not load dynamic library 'libnvinfer.so.7'; dlerror: libnvinfer.so.7: cannot open shared object file: No such file or directory\n",
      "2023-02-24 11:06:02.864038: W tensorflow/compiler/xla/stream_executor/platform/default/dso_loader.cc:64] Could not load dynamic library 'libnvinfer_plugin.so.7'; dlerror: libnvinfer_plugin.so.7: cannot open shared object file: No such file or directory\n",
      "2023-02-24 11:06:02.864051: W tensorflow/compiler/tf2tensorrt/utils/py_utils.cc:38] TF-TRT Warning: Cannot dlopen some TensorRT libraries. If you would like to use Nvidia GPU with TensorRT, please make sure the missing libraries mentioned above are installed properly.\n",
      "2023-02-24 11:06:04.300944: W tensorflow/compiler/xla/stream_executor/platform/default/dso_loader.cc:64] Could not load dynamic library 'libcuda.so.1'; dlerror: libcuda.so.1: cannot open shared object file: No such file or directory\n",
      "2023-02-24 11:06:04.300994: W tensorflow/compiler/xla/stream_executor/cuda/cuda_driver.cc:265] failed call to cuInit: UNKNOWN ERROR (303)\n",
      "2023-02-24 11:06:04.301092: I tensorflow/compiler/xla/stream_executor/cuda/cuda_diagnostics.cc:156] kernel driver does not appear to be running on this host (thomas-VirtualBox): /proc/driver/nvidia/version does not exist\n",
      "2023-02-24 11:06:04.301460: I tensorflow/core/platform/cpu_feature_guard.cc:193] This TensorFlow binary is optimized with oneAPI Deep Neural Network Library (oneDNN) to use the following CPU instructions in performance-critical operations:  AVX2\n",
      "To enable them in other operations, rebuild TensorFlow with the appropriate compiler flags.\n"
     ]
    }
   ],
   "source": [
    "import sys\n",
    "sys.path.append('/home/thomas/projects/fair/call_3/repository/')\n",
    "\n",
    "from src.pulsed_power_ml.model_framework.data_io import load_binary_data_array\n",
    "from src.pulsed_power_ml.model_framework.visualizations import add_contour_plot\n",
    "from src.pulsed_power_ml.model_framework.visualizations import make_gupta_switch_detection_plot\n",
    "from src.pulsed_power_ml.model_framework.training_data_labelling import remove_false_positive_switching_events"
   ],
   "metadata": {
    "collapsed": false
   }
  },
  {
   "cell_type": "code",
   "execution_count": null,
   "outputs": [],
   "source": [
    "r1_1_remove = [1, 4, 7, 10, 13, 16, 19, 22]\n",
    "r1_2_remove = [1, 4, 7]\n",
    "r2_2_remove = []"
   ],
   "metadata": {
    "collapsed": false
   }
  },
  {
   "cell_type": "code",
   "execution_count": null,
   "outputs": [],
   "source": [
    "feature_name_list = [\n",
    "    'e1_features.csv',\n",
    "    'f1_features.csv',\n",
    "    'f2_features.csv',\n",
    "    'fp1_corrected_features.csv',\n",
    "    'h2_features.csv',\n",
    "    'l1_corrected_features.csv',\n",
    "    'l2_features.csv',\n",
    "    'r1_features.csv',\n",
    "    'r2_features.csv'\n",
    "]\n",
    "features_base_folder = '/home/thomas/projects/fair/call_3/data/training_data/model_v3/training_data'\n",
    "\n",
    "feature_list = list()\n",
    "\n",
    "for feature_file in feature_name_list:\n",
    "    full_path = f'{features_base_folder}/{feature_file}'\n",
    "    features = np.loadtxt(full_path, delimiter=',')\n",
    "    feature_list.append(features)\n",
    "\n",
    "feature_array = np.vstack(feature_list)"
   ],
   "metadata": {
    "collapsed": false
   }
  },
  {
   "cell_type": "code",
   "execution_count": null,
   "outputs": [],
   "source": [
    "feature_array.shape"
   ],
   "metadata": {
    "collapsed": false
   }
  },
  {
   "cell_type": "code",
   "execution_count": null,
   "outputs": [],
   "source": [
    "np.savetxt(fname='/home/thomas/projects/fair/call_3/data/training_data/model_v3/training_data/merged/features.csv',\n",
    "           X=feature_array,\n",
    "           delimiter=',')"
   ],
   "metadata": {
    "collapsed": false
   }
  },
  {
   "cell_type": "code",
   "execution_count": null,
   "outputs": [],
   "source": [
    "feature_array"
   ],
   "metadata": {
    "collapsed": false
   }
  },
  {
   "cell_type": "code",
   "execution_count": null,
   "outputs": [],
   "source": [
    "from src.pulsed_power_ml.model_framework.training_data_labelling import remove_false_positive_switching_events\n",
    "\n",
    "label_name_list = [\n",
    "    'e1_labels.csv',\n",
    "    'f1_labels.csv',\n",
    "    'f2_labels.csv',\n",
    "    'fp1_corrected_labels.csv',\n",
    "    'h2_labels.csv',\n",
    "    'l1_corrected_labels.csv',\n",
    "    'l2_labels.csv',\n",
    "    'r1_labels.csv',\n",
    "    'r2_labels.csv'\n",
    "]\n",
    "labels_base_folder = '/home/thomas/projects/fair/call_3/data/training_data/model_v3/training_data'\n",
    "\n",
    "label_list = list()\n",
    "\n",
    "for label_file in label_name_list:\n",
    "    full_path = f'{labels_base_folder}/{label_file}'\n",
    "    labels = np.loadtxt(full_path, delimiter=',')\n",
    "    label_list.append(labels)\n",
    "\n",
    "label_array = np.vstack(label_list)"
   ],
   "metadata": {
    "collapsed": false
   }
  },
  {
   "cell_type": "code",
   "execution_count": null,
   "outputs": [],
   "source": [
    "label_array.shape"
   ],
   "metadata": {
    "collapsed": false
   }
  },
  {
   "cell_type": "code",
   "execution_count": null,
   "outputs": [],
   "source": [
    "np.savetxt(fname='/home/thomas/projects/fair/call_3/data/training_data/model_v3/training_data/merged/labels.csv',\n",
    "           X=label_array,\n",
    "           delimiter=',')"
   ],
   "metadata": {
    "collapsed": false
   }
  },
  {
   "cell_type": "code",
   "execution_count": null,
   "outputs": [],
   "source": [
    "label_array"
   ],
   "metadata": {
    "collapsed": false
   }
  },
  {
   "cell_type": "code",
   "execution_count": null,
   "outputs": [],
   "source": [
    "BASE_FOLDER = \"/home/thomas/projects/fair/call_3/data/\"\n",
    "RAW_DATA_FOLDER = f\"{BASE_FOLDER}/raw_data/2022-11-16_training_data/\"\n",
    "\n",
    "TEST_DATA_FOLDER = f'{RAW_DATA_FOLDER}/fp1/'\n",
    "\n",
    "TEST_VOLTAGE_SPECTRUM = f'{TEST_DATA_FOLDER}/FFTApparentPower_FP1OffOn_FFTSize131072'\n",
    "\n",
    "OUTPUT_FOLDER = f'/home/thomas/projects/fair/call_3/experiments/gupta_switch_detection/'\n",
    "\n",
    "FFT_SIZE = 2**17"
   ],
   "metadata": {
    "collapsed": false
   }
  },
  {
   "cell_type": "code",
   "execution_count": null,
   "outputs": [],
   "source": [
    "data_point_array = read_training_files(TEST_DATA_FOLDER, FFT_SIZE)"
   ],
   "metadata": {
    "collapsed": false
   }
  },
  {
   "cell_type": "code",
   "execution_count": null,
   "outputs": [],
   "source": [
    "voltage_fft_raw = np.fromfile(TEST_VOLTAGE_SPECTRUM, dtype=np.float32)\n",
    "remainder = len(voltage_fft_raw) % FFT_SIZE\n",
    "if remainder != 0:\n",
    "    voltage_fft_raw = voltage_fft_raw[:-remainder].reshape((-1, FFT_SIZE))\n",
    "else:\n",
    "    voltage_fft_raw = voltage_fft_raw.reshape((-1, FFT_SIZE))"
   ],
   "metadata": {
    "collapsed": false
   }
  },
  {
   "cell_type": "code",
   "execution_count": 3,
   "outputs": [],
   "source": [
    "def watt_to_dbm(spectrum):\n",
    "    return 10 * np.log10(spectrum) + 30"
   ],
   "metadata": {
    "collapsed": false
   }
  },
  {
   "cell_type": "code",
   "execution_count": 4,
   "outputs": [],
   "source": [
    "def gupta_switch_detection(raw_spectrum_array, window_size=25):\n",
    "\n",
    "    spectrum_array = list()\n",
    "\n",
    "    for spectrum in raw_spectrum_array:\n",
    "        spectrum_dbm = watt_to_dbm(spectrum)\n",
    "        spectrum_array.append(spectrum_dbm)\n",
    "\n",
    "    spectrum_array = np.array(spectrum_array)\n",
    "\n",
    "    index = 0\n",
    "\n",
    "    difference_vector_max = list()\n",
    "\n",
    "    while True:\n",
    "        try:\n",
    "            i, j, k = index*window_size, (index+1)*window_size, (index+2)*window_size\n",
    "            background = np.mean(spectrum_array[i:j], axis=0)\n",
    "            new_window = np.mean(spectrum_array[j:k], axis=0)\n",
    "            difference_vector = background - new_window\n",
    "            difference_vector_max.append(np.abs(difference_vector).max())\n",
    "            index += 1\n",
    "\n",
    "            if k > len(spectrum_array):\n",
    "                break\n",
    "\n",
    "        except:\n",
    "            print(f'Exception! {i, j, k}, {len(spectrum_array)}')\n",
    "            break\n",
    "\n",
    "    return difference_vector_max"
   ],
   "metadata": {
    "collapsed": false
   }
  },
  {
   "cell_type": "code",
   "execution_count": 12,
   "outputs": [],
   "source": [
    "e1_data_point_array = load_binary_data_array(\n",
    "    '/home/thomas/projects/fair/call_3/data/2023-02-22_training-data/r1_1.dat',\n",
    "    fft_size_data_point=2**16\n",
    ")"
   ],
   "metadata": {
    "collapsed": false
   }
  },
  {
   "cell_type": "code",
   "execution_count": 13,
   "outputs": [
    {
     "data": {
      "text/plain": "<Figure size 1600x900 with 1 Axes>",
      "image/png": "[encoded data removed]"
     },
     "metadata": {},
     "output_type": "display_data"
    }
   ],
   "source": [
    "\n",
    "window_size = 10\n",
    "\n",
    "gupta_switch_vector = gupta_switch_detection(e1_data_point_array[:,2 * 2**16:3*2**16], window_size=window_size)\n",
    "\n",
    "fig = plt.figure(figsize=(16, 9))\n",
    "ax = fig.add_subplot()\n",
    "ax.plot(\n",
    "    np.array(range(len(gupta_switch_vector))) * window_size,\n",
    "    list([0]) * 2 + gupta_switch_vector[:-2]\n",
    ")\n",
    "# ax.hlines(y=2000, xmin=0, xmax=2000)\n",
    "ax.grid(True)"
   ],
   "metadata": {
    "collapsed": false
   }
  },
  {
   "cell_type": "code",
   "execution_count": null,
   "outputs": [],
   "source": [
    "path_to_feature_file = '/home/thomas/projects/fair/call_3/data/training_data/model_v3/training_data/fp1_features.csv'\n",
    "features = np.loadtxt(path_to_feature_file, delimiter=',')"
   ],
   "metadata": {
    "collapsed": false
   }
  },
  {
   "cell_type": "code",
   "execution_count": null,
   "outputs": [],
   "source": [
    "switch_positions_file = '/home/thomas/projects/fair/call_3/data/training_data/model_v3/training_data/fp1_switch_positions.csv'\n",
    "switch_positions = np.loadtxt(switch_positions_file, delimiter=',')"
   ],
   "metadata": {
    "collapsed": false
   }
  },
  {
   "cell_type": "code",
   "execution_count": null,
   "outputs": [],
   "source": [
    "raw_spectrum_array = data_point_array[:, int(2 * FFT_SIZE / 2) : int(3 * FFT_SIZE / 2)]\n",
    "# spectrum_array = list()\n",
    "\n",
    "apparent_power_array = data_point_array[:, -2]\n",
    "\n",
    "# for spectrum in raw_spectrum_array:\n",
    "#     spectrum_dbm = watt_to_dbm(spectrum)\n",
    "#     spectrum_array.append(spectrum_dbm)\n",
    "\n",
    "# spectrum_array = np.array(spectrum_array)\n",
    "fig = plt.figure(figsize=(16, 9))\n",
    "ax = fig.add_subplot()\n",
    "ax.grid(True)\n",
    "ax.plot(apparent_power_array)\n",
    "ax.plot(switch_positions * max(apparent_power_array),\n",
    "        alpha=0.5)\n",
    "\n",
    "original_switch_indices = np.nonzero(switch_positions)[0]\n",
    "\n",
    "for i, s in enumerate(original_switch_indices):\n",
    "    y = -1.25 if i%2!=0 else -0.5\n",
    "    ax.text(x=s,\n",
    "            y=y,\n",
    "            s=i)"
   ],
   "metadata": {
    "collapsed": false
   }
  },
  {
   "cell_type": "code",
   "execution_count": null,
   "outputs": [],
   "source": [
    "\n"
   ],
   "metadata": {
    "collapsed": false
   }
  },
  {
   "cell_type": "code",
   "execution_count": null,
   "outputs": [],
   "source": [
    "def remove_false_positive_switching_events(feature_vector_array: np.array,\n",
    "                                           switch_positions: np.array,\n",
    "                                           switching_events_to_remove: np.array) -> Tuple[np.array, np.array]:\n",
    "    \"\"\"\n",
    "    Remove false-positive switching events from a feature_vector_array and the corresponding switch_positions array.\n",
    "\n",
    "    Parameters\n",
    "    ----------\n",
    "    feature_vector_array\n",
    "        2D array containing one feature vector for each switching event.\n",
    "    switch_positions\n",
    "        Array with the same length as the original data point array containing 1s for each detected switch otherwise 0s.\n",
    "    switching_events_to_remove\n",
    "        Array of indices corresponding to the feature_vector_array of false-positive switching events. These switching\n",
    "        events will be removed.\n",
    "\n",
    "    Returns\n",
    "    -------\n",
    "    corrected_feature_vector_array\n",
    "        features_vector_array w/o the features of false-positive switching events.\n",
    "    corrected_switch_positions\n",
    "        Array w/ the same length as switch_positions, but w/o the false positive switching events (the respective 1s\n",
    "        will be 0s)\n",
    "    \"\"\"\n",
    "    corrected_feature_vector_array = np.delete(feature_vector_array, switching_events_to_remove, axis=0)\n",
    "\n",
    "    original_switch_indices = np.nonzero(switch_positions)[0]\n",
    "\n",
    "    print(original_switch_indices)\n",
    "\n",
    "    switch_flags_to_change = original_switch_indices[switching_events_to_remove]\n",
    "\n",
    "    corrected_switch_positions = np.copy(switch_positions)\n",
    "\n",
    "    corrected_switch_positions[switch_flags_to_change] = 0\n",
    "\n",
    "    return corrected_feature_vector_array, corrected_switch_positions"
   ],
   "metadata": {
    "collapsed": false
   }
  },
  {
   "cell_type": "code",
   "execution_count": null,
   "outputs": [],
   "source": [
    "false_switch_positions = [\n",
    "    1, 4, 7, 10, 13, 14, 19, 20, 24, 26, 27, 30, 32, 36, 37, 42, 43,\n",
    "]"
   ],
   "metadata": {
    "collapsed": false
   }
  },
  {
   "cell_type": "code",
   "execution_count": null,
   "outputs": [],
   "source": [
    "len(false_switch_positions)"
   ],
   "metadata": {
    "collapsed": false
   }
  },
  {
   "cell_type": "code",
   "execution_count": null,
   "outputs": [],
   "source": [
    "corrected_features, corrected_switches = remove_false_positive_switching_events(\n",
    "    features,\n",
    "    switch_positions,\n",
    "    np.array(false_switch_positions, dtype=np.int32)\n",
    ")"
   ],
   "metadata": {
    "collapsed": false
   }
  },
  {
   "cell_type": "code",
   "execution_count": null,
   "outputs": [],
   "source": [
    "raw_spectrum_array = data_point_array[:, int(2 * FFT_SIZE / 2) : int(3 * FFT_SIZE / 2)]\n",
    "spectrum_array = list()\n",
    "\n",
    "apparent_power_array = data_point_array[:, -2]\n",
    "\n",
    "for spectrum in raw_spectrum_array:\n",
    "    spectrum_dbm = watt_to_dbm(spectrum)\n",
    "    spectrum_array.append(spectrum_dbm)\n",
    "\n",
    "spectrum_array = np.array(spectrum_array)\n",
    "fig = plt.figure(figsize=(16, 9))\n",
    "ax = fig.add_subplot()\n",
    "ax.grid(True)\n",
    "ax.plot(apparent_power_array)\n",
    "ax.plot(corrected_switches * max(apparent_power_array),\n",
    "        alpha=0.5)"
   ],
   "metadata": {
    "collapsed": false
   }
  },
  {
   "cell_type": "code",
   "execution_count": null,
   "outputs": [],
   "source": [
    "corrected_features.shape"
   ],
   "metadata": {
    "collapsed": false
   }
  },
  {
   "cell_type": "code",
   "execution_count": null,
   "outputs": [],
   "source": [
    "np.nonzero(corrected_switches)[0].shape"
   ],
   "metadata": {
    "collapsed": false
   }
  },
  {
   "cell_type": "code",
   "execution_count": null,
   "outputs": [],
   "source": [
    "a = \" 1 2 3 4 5 6 \""
   ],
   "metadata": {
    "collapsed": false
   }
  },
  {
   "cell_type": "code",
   "execution_count": null,
   "outputs": [],
   "source": [
    "a_int = [int(x) for x in a.split(' ') if len(x) !=0]"
   ],
   "metadata": {
    "collapsed": false
   }
  },
  {
   "cell_type": "code",
   "execution_count": null,
   "outputs": [],
   "source": [
    "int('asdf')"
   ],
   "metadata": {
    "collapsed": false
   }
  },
  {
   "cell_type": "code",
   "execution_count": null,
   "outputs": [],
   "source": [
    "pca = PCA(n_components=2)\n",
    "pca_features = pca.fit_transform(features)"
   ],
   "metadata": {
    "collapsed": false
   }
  },
  {
   "cell_type": "code",
   "execution_count": null,
   "outputs": [],
   "source": [
    "pca_features[[0, 2, 4, 5]]"
   ],
   "metadata": {
    "collapsed": false
   }
  },
  {
   "cell_type": "code",
   "execution_count": null,
   "outputs": [],
   "source": [
    "fig = plt.figure(figsize=(16, 9))\n",
    "ax = fig.add_subplot()\n",
    "ax.scatter(x=pca_features[:, 0],\n",
    "           y=pca_features[:, 1])\n",
    "ax.grid(True)"
   ],
   "metadata": {
    "collapsed": false
   }
  },
  {
   "cell_type": "code",
   "execution_count": null,
   "outputs": [],
   "source": [],
   "metadata": {
    "collapsed": false
   }
  },
  {
   "cell_type": "code",
   "execution_count": null,
   "outputs": [],
   "source": [],
   "metadata": {
    "collapsed": false
   }
  },
  {
   "cell_type": "code",
   "execution_count": null,
   "outputs": [],
   "source": [],
   "metadata": {
    "collapsed": false
   }
  },
  {
   "cell_type": "code",
   "execution_count": null,
   "outputs": [],
   "source": [],
   "metadata": {
    "collapsed": false
   }
  },
  {
   "cell_type": "code",
   "execution_count": null,
   "outputs": [],
   "source": [],
   "metadata": {
    "collapsed": false
   }
  },
  {
   "cell_type": "code",
   "execution_count": null,
   "outputs": [],
   "source": [
    "fig.savefig('/home/thomas/projects/fair/call_3/experiments/gupta_switch_detection/reimplemented_gupta_switch_detection/intermediate/FP1_dbm_threshold.pdf')"
   ],
   "metadata": {
    "collapsed": false
   }
  },
  {
   "cell_type": "code",
   "execution_count": null,
   "outputs": [],
   "source": [
    "def add_contour_plot_dbm(spectrum: np.array,\n",
    "                         min_max_freq: List[float],\n",
    "                         ax: mpl.axis.Axis) -> mpl.axis.Axis:\n",
    "    \"\"\"\n",
    "    Add a contour plot of the provided spectrum to *axes*.\n",
    "\n",
    "    Parameters\n",
    "    ----------\n",
    "    spectrum\n",
    "        Array containing the magnitude per frequency.\n",
    "    min_max_freq:\n",
    "        Array containing the min frequency and the max frequency.\n",
    "    ax\n",
    "        Axis object to add the plot to.\n",
    "\n",
    "    Returns\n",
    "    -------\n",
    "    ax\n",
    "        the provided axis object with the respective plot added.\n",
    "    \"\"\"\n",
    "\n",
    "    # add spectrum to axis\n",
    "    ax.imshow(X=10 * np.log10(spectrum.T**2 / 50.0) + 30,\n",
    "              aspect=\"auto\",\n",
    "              interpolation=\"none\",\n",
    "              origin=\"lower\",\n",
    "              cmap=mpl.colormaps[\"rainbow\"])\n",
    "\n",
    "    # add frequency ticks to y-axis\n",
    "    y_labels = np.arange(min_max_freq[0], min_max_freq[1]+1, 250)\n",
    "    y_ticks_position_list = np.linspace(0, len(spectrum[0]), len(y_labels))\n",
    "    ax.set_yticks(ticks=y_ticks_position_list,\n",
    "                  labels=y_labels)\n",
    "    ax.set_ylabel(\"Frequency [kHz]\")\n",
    "\n",
    "    # add time ticks\n",
    "    ax.set_xlabel(\"Timestep\")\n",
    "\n",
    "    # Miscellaneous\n",
    "    ax.grid(True)\n",
    "\n",
    "    return ax"
   ],
   "metadata": {
    "collapsed": false
   }
  },
  {
   "cell_type": "code",
   "execution_count": null,
   "outputs": [],
   "source": [
    "def invert_fft(spectrum_array: np.array, fft_size: int) -> np.array:\n",
    "    signal_list = list()\n",
    "    for spectrum in spectrum_array:\n",
    "        signal = ifft(spectrum)\n",
    "        signal_list.append(signal)\n",
    "\n",
    "    signal_sequence = np.array(signal_list).flatten()\n",
    "\n",
    "    return signal_sequence"
   ],
   "metadata": {
    "collapsed": false
   }
  },
  {
   "cell_type": "code",
   "execution_count": null,
   "outputs": [],
   "source": [
    "signal_seq = invert_fft(voltage_fft_raw, FFT_SIZE)"
   ],
   "metadata": {
    "collapsed": false
   }
  },
  {
   "cell_type": "code",
   "execution_count": null,
   "outputs": [],
   "source": [
    "plt.plot(signal_seq)"
   ],
   "metadata": {
    "collapsed": false
   }
  },
  {
   "cell_type": "code",
   "execution_count": null,
   "outputs": [],
   "source": [
    "fig = plt.figure(figsize=(16, 9))\n",
    "ax = fig.add_subplot()\n",
    "real_part = voltage_fft_raw[:500, 0:int(FFT_SIZE/2)]\n",
    "ax = add_contour_plot_dbm(real_part,\n",
    "                          [0, 1000],\n",
    "                          ax)\n",
    "fig.savefig(f'{OUTPUT_FOLDER}/mixed1_voltage_spectrum_dBm.png', dpi=1600)"
   ],
   "metadata": {
    "collapsed": false
   }
  },
  {
   "cell_type": "code",
   "execution_count": null,
   "outputs": [],
   "source": [
    "fig = plt.figure(figsize=(16, 9))\n",
    "ax = fig.add_subplot()\n",
    "real_part = voltage_fft_raw[:500,327:int(FFT_SIZE/2)]\n",
    "ax = add_contour_plot_dbm(real_part,\n",
    "                          [10, 1000],\n",
    "                          ax)\n",
    "#fig.savefig(f'{OUTPUT_FOLDER}/l2_voltage_spectrum_50k_dbm.png', dpi=400)\n",
    "fig.savefig(f'{OUTPUT_FOLDER}/mixed_voltage_spectrum_10k_dbm.png', dpi=1600)"
   ],
   "metadata": {
    "collapsed": false
   }
  },
  {
   "cell_type": "code",
   "execution_count": null,
   "outputs": [],
   "source": [
    "def clean_spectra(spectrum_array: np.array, background_n: int = 25, threshold: float = 10) -> np.array:\n",
    "    background_array = deque(maxlen=background_n)\n",
    "    output_array = np.full(spectrum_array.shape, np.nan)\n",
    "    for index, spectrum_v in enumerate(spectrum_array):\n",
    "\n",
    "        spectrum = 10 * np.log10(spectrum_v**2 / 50.0) + 30\n",
    "\n",
    "        # Fill up background array until full\n",
    "        if len(background_array) < background_n:\n",
    "            background_array.append(spectrum)\n",
    "            continue\n",
    "\n",
    "        # clean current spectrum\n",
    "        averaged_background = np.array(background_array).mean(axis=0)\n",
    "        residual_spectrum = spectrum - averaged_background\n",
    "        output_array[index] = residual_spectrum\n",
    "\n",
    "        # check for switching event\n",
    "        # if residual_spectrum.max() >= threshold\n",
    "\n",
    "        background_array.append(spectrum)\n",
    "\n",
    "    return output_array"
   ],
   "metadata": {
    "collapsed": false
   }
  },
  {
   "cell_type": "code",
   "execution_count": null,
   "outputs": [],
   "source": [
    "real_part = voltage_fft_raw[: ,1180:int(FFT_SIZE/2)]\n",
    "cleaned_spectra = clean_spectra(real_part, 10)"
   ],
   "metadata": {
    "collapsed": false
   }
  },
  {
   "cell_type": "code",
   "execution_count": null,
   "outputs": [],
   "source": [
    "fig = plt.figure(figsize=(16, 9))\n",
    "ax = fig.add_subplot()\n",
    "ax.plot(cleaned_spectra.max(axis=1))\n",
    "ax.grid()"
   ],
   "metadata": {
    "collapsed": false
   }
  },
  {
   "cell_type": "code",
   "execution_count": null,
   "outputs": [],
   "source": [
    "fig = plt.figure(figsize=(16, 9))\n",
    "ax = fig.add_subplot()\n",
    "ax.plot(cleaned_spectra.min(axis=1))\n",
    "ax.grid()"
   ],
   "metadata": {
    "collapsed": false
   }
  },
  {
   "cell_type": "code",
   "execution_count": null,
   "outputs": [],
   "source": [
    "fig = plt.figure(figsize=(16, 9))\n",
    "ax = fig.add_subplot()\n",
    "ax.plot(np.abs(cleaned_spectra).max(axis=1))\n",
    "ax.grid()"
   ],
   "metadata": {
    "collapsed": false
   }
  },
  {
   "cell_type": "code",
   "execution_count": null,
   "outputs": [],
   "source": [
    "plt.plot(cleaned_spectra.min(axis=1))"
   ],
   "metadata": {
    "collapsed": false
   }
  },
  {
   "cell_type": "code",
   "execution_count": null,
   "outputs": [],
   "source": [
    "fig = plt.figure(figsize=(16, 9))\n",
    "ax = fig.add_subplot()\n",
    "ax = add_contour_plot_dbm(cleaned_spectra,\n",
    "                          [3, 1000],\n",
    "                          ax)\n",
    "#fig.savefig(f'{OUTPUT_FOLDER}/l2_voltage_spectrum_50k_dbm.png', dpi=400)\n",
    "fig.savefig(f'{OUTPUT_FOLDER}/l2_voltage_cleaned_spectrum_10k_dbm.png', dpi=1600)"
   ],
   "metadata": {
    "collapsed": false
   }
  },
  {
   "cell_type": "code",
   "execution_count": null,
   "outputs": [],
   "source": [
    "a = np.zeros(10)"
   ],
   "metadata": {
    "collapsed": false
   }
  },
  {
   "cell_type": "code",
   "execution_count": null,
   "outputs": [],
   "source": [
    "a"
   ],
   "metadata": {
    "collapsed": false
   }
  },
  {
   "cell_type": "code",
   "execution_count": null,
   "outputs": [],
   "source": [
    "a[3:5] = 1"
   ],
   "metadata": {
    "collapsed": false
   }
  },
  {
   "cell_type": "code",
   "execution_count": null,
   "outputs": [],
   "source": [
    "a"
   ],
   "metadata": {
    "collapsed": false
   }
  },
  {
   "cell_type": "code",
   "execution_count": null,
   "outputs": [],
   "source": [],
   "metadata": {
    "collapsed": false
   }
  }
 ],
 "metadata": {
  "kernelspec": {
   "display_name": "Python 3",
   "language": "python",
   "name": "python3"
  },
  "language_info": {
   "codemirror_mode": {
    "name": "ipython",
    "version": 2
   },
   "file_extension": ".py",
   "mimetype": "text/x-python",
   "name": "python",
   "nbconvert_exporter": "python",
   "pygments_lexer": "ipython2",
   "version": "2.7.6"
  }
 },
 "nbformat": 4,
 "nbformat_minor": 0
}
