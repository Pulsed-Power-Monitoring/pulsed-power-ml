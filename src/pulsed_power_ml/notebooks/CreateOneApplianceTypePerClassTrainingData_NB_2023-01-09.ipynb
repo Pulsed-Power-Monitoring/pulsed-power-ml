{
 "cells": [
  {
   "cell_type": "code",
   "execution_count": 1,
   "outputs": [],
   "source": [
    "import sys\n",
    "sys.path.append(\"../../../\")"
   ],
   "metadata": {
    "collapsed": false
   }
  },
  {
   "cell_type": "code",
   "execution_count": 11,
   "metadata": {
    "collapsed": true
   },
   "outputs": [],
   "source": [
    "from src.pulsed_power_ml.model_framework.training_data_labelling import trainingdata_switch_detector\n",
    "from src.pulsed_power_ml.model_framework.data_io import read_training_files\n",
    "from src.pulsed_power_ml.models.gupta_model.gupta_utils import read_parameters\n",
    "from src.pulsed_power_ml.model_framework.training_data_labelling import get_switch_features\n",
    "from src.pulsed_power_ml.model_framework.training_data_labelling import make_labeled_training_data\n",
    "from src.pulsed_power_ml.model_framework.training_data_labelling import explode_to_complete_label_vector"
   ]
  },
  {
   "cell_type": "code",
   "execution_count": 16,
   "outputs": [],
   "source": [
    "RAW_DATA_BASE_FOLDER = \"../../../../data/raw_data/2022-11-16_training_data/\"\n",
    "APPARENT_POWER_BINARY_PREFIX = \"FFTApparentPower_\"\n",
    "APPARENT_POWER_BINARY_POSTFIX = \"OffOn_FFTSize131072\"\n",
    "PARAMETER_FILE = \"../models/gupta_model/parameters_appliance_types.yml\""
   ],
   "metadata": {
    "collapsed": false
   }
  },
  {
   "cell_type": "markdown",
   "source": [
    "# Test field"
   ],
   "metadata": {
    "collapsed": false
   }
  },
  {
   "cell_type": "code",
   "execution_count": 4,
   "outputs": [],
   "source": [
    "parameter_dict = read_parameters(\"../models/gupta_model/parameters_appliance_types.yml\")"
   ],
   "metadata": {
    "collapsed": false
   }
  },
  {
   "cell_type": "code",
   "execution_count": 5,
   "outputs": [],
   "source": [
    "appliance_folder = \"r1\"\n",
    "apparent_power_binary = f\"{APPARENT_POWER_BINARY_PREFIX}{appliance_folder.upper()}{APPARENT_POWER_BINARY_POSTFIX}\""
   ],
   "metadata": {
    "collapsed": false
   }
  },
  {
   "cell_type": "code",
   "execution_count": 6,
   "outputs": [],
   "source": [
    "array_of_data_points = read_training_files(path_to_folder=f\"{RAW_DATA_BASE_FOLDER}/{appliance_folder}\",\n",
    "                                           fft_size=2**17)\n",
    "array_of_apparent_power_spectra = array_of_data_points[:,2*2*16:3*2**16]"
   ],
   "metadata": {
    "collapsed": false
   }
  },
  {
   "cell_type": "code",
   "execution_count": 7,
   "outputs": [],
   "source": [
    "switch_positions = trainingdata_switch_detector(spectra=array_of_apparent_power_spectra,\n",
    "                                                parameters=parameter_dict)"
   ],
   "metadata": {
    "collapsed": false
   }
  },
  {
   "cell_type": "code",
   "execution_count": 8,
   "outputs": [
    {
     "name": "stderr",
     "output_type": "stream",
     "text": [
      "/home/thomas/.venv/py10_kitchensink/lib/python3.10/site-packages/scipy/optimize/_minpack_py.py:881: OptimizeWarning: Covariance of the parameters could not be estimated\n",
      "  warnings.warn('Covariance of the parameters could not be estimated',\n"
     ]
    }
   ],
   "source": [
    "features = get_switch_features(spectra=array_of_apparent_power_spectra,\n",
    "                               switch_positions=switch_positions,\n",
    "                               parameters=parameter_dict)"
   ],
   "metadata": {
    "collapsed": false
   }
  },
  {
   "cell_type": "code",
   "execution_count": 13,
   "outputs": [
    {
     "name": "stderr",
     "output_type": "stream",
     "text": [
      "/home/thomas/.venv/py10_kitchensink/lib/python3.10/site-packages/scipy/optimize/_minpack_py.py:881: OptimizeWarning: Covariance of the parameters could not be estimated\n",
      "  warnings.warn('Covariance of the parameters could not be estimated',\n"
     ]
    }
   ],
   "source": [
    "features, temp_labels = make_labeled_training_data(\n",
    "    training_file=f\"{RAW_DATA_BASE_FOLDER}/{appliance_folder}/{apparent_power_binary}\",\n",
    "    parameter_file=\"../models/gupta_model/parameters_appliance_types.yml\",\n",
    "    percentage=1.0\n",
    ")"
   ],
   "metadata": {
    "collapsed": false
   }
  },
  {
   "cell_type": "code",
   "execution_count": 14,
   "outputs": [],
   "source": [
    "labels = explode_to_complete_label_vector(\n",
    "    labels=temp_labels,\n",
    "    appliance_id=7,\n",
    "    parameter_file=\"../models/gupta_model/parameters_appliance_types.yml\"\n",
    ")"
   ],
   "metadata": {
    "collapsed": false
   }
  },
  {
   "cell_type": "code",
   "execution_count": 15,
   "outputs": [
    {
     "data": {
      "text/plain": "array([[0., 0., 0., 0., 0., 0., 1., 0., 0., 0., 0., 0., 0., 0., 0.],\n       [0., 0., 0., 0., 0., 0., 0., 0., 0., 0., 0., 0., 0., 1., 0.],\n       [0., 0., 0., 0., 0., 0., 1., 0., 0., 0., 0., 0., 0., 0., 0.],\n       [0., 0., 0., 0., 0., 0., 0., 0., 0., 0., 0., 0., 0., 1., 0.],\n       [0., 0., 0., 0., 0., 0., 1., 0., 0., 0., 0., 0., 0., 0., 0.],\n       [0., 0., 0., 0., 0., 0., 0., 0., 0., 0., 0., 0., 0., 1., 0.],\n       [0., 0., 0., 0., 0., 0., 1., 0., 0., 0., 0., 0., 0., 0., 0.],\n       [0., 0., 0., 0., 0., 0., 0., 0., 0., 0., 0., 0., 0., 1., 0.],\n       [0., 0., 0., 0., 0., 0., 1., 0., 0., 0., 0., 0., 0., 0., 0.],\n       [0., 0., 0., 0., 0., 0., 0., 0., 0., 0., 0., 0., 0., 1., 0.],\n       [0., 0., 0., 0., 0., 0., 1., 0., 0., 0., 0., 0., 0., 0., 0.],\n       [0., 0., 0., 0., 0., 0., 0., 0., 0., 0., 0., 0., 0., 1., 0.],\n       [0., 0., 0., 0., 0., 0., 1., 0., 0., 0., 0., 0., 0., 0., 0.],\n       [0., 0., 0., 0., 0., 0., 0., 0., 0., 0., 0., 0., 0., 1., 0.],\n       [0., 0., 0., 0., 0., 0., 1., 0., 0., 0., 0., 0., 0., 0., 0.],\n       [0., 0., 0., 0., 0., 0., 0., 0., 0., 0., 0., 0., 0., 1., 0.],\n       [0., 0., 0., 0., 0., 0., 1., 0., 0., 0., 0., 0., 0., 0., 0.],\n       [0., 0., 0., 0., 0., 0., 0., 0., 0., 0., 0., 0., 0., 1., 0.],\n       [0., 0., 0., 0., 0., 0., 1., 0., 0., 0., 0., 0., 0., 0., 0.],\n       [0., 0., 0., 0., 0., 0., 0., 0., 0., 0., 0., 0., 0., 1., 0.],\n       [0., 0., 0., 0., 0., 0., 1., 0., 0., 0., 0., 0., 0., 0., 0.],\n       [0., 0., 0., 0., 0., 0., 0., 0., 0., 0., 0., 0., 0., 1., 0.],\n       [0., 0., 0., 0., 0., 0., 1., 0., 0., 0., 0., 0., 0., 0., 0.],\n       [0., 0., 0., 0., 0., 0., 0., 0., 0., 0., 0., 0., 0., 1., 0.],\n       [0., 0., 0., 0., 0., 0., 1., 0., 0., 0., 0., 0., 0., 0., 0.],\n       [0., 0., 0., 0., 0., 0., 0., 0., 0., 0., 0., 0., 0., 1., 0.],\n       [0., 0., 0., 0., 0., 0., 1., 0., 0., 0., 0., 0., 0., 0., 0.],\n       [0., 0., 0., 0., 0., 0., 0., 0., 0., 0., 0., 0., 0., 1., 0.],\n       [0., 0., 0., 0., 0., 0., 1., 0., 0., 0., 0., 0., 0., 0., 0.],\n       [0., 0., 0., 0., 0., 0., 0., 0., 0., 0., 0., 0., 0., 1., 0.],\n       [0., 0., 0., 0., 0., 0., 1., 0., 0., 0., 0., 0., 0., 0., 0.],\n       [0., 0., 0., 0., 0., 0., 0., 0., 0., 0., 0., 0., 0., 1., 0.],\n       [0., 0., 0., 0., 0., 0., 1., 0., 0., 0., 0., 0., 0., 0., 0.],\n       [0., 0., 0., 0., 0., 0., 0., 0., 0., 0., 0., 0., 0., 1., 0.],\n       [0., 0., 0., 0., 0., 0., 1., 0., 0., 0., 0., 0., 0., 0., 0.],\n       [0., 0., 0., 0., 0., 0., 0., 0., 0., 0., 0., 0., 0., 1., 0.],\n       [0., 0., 0., 0., 0., 0., 1., 0., 0., 0., 0., 0., 0., 0., 0.],\n       [0., 0., 0., 0., 0., 0., 0., 0., 0., 0., 0., 0., 0., 1., 0.],\n       [0., 0., 0., 0., 0., 0., 1., 0., 0., 0., 0., 0., 0., 0., 0.],\n       [0., 0., 0., 0., 0., 0., 0., 0., 0., 0., 0., 0., 0., 1., 0.],\n       [0., 0., 0., 0., 0., 0., 1., 0., 0., 0., 0., 0., 0., 0., 0.],\n       [0., 0., 0., 0., 0., 0., 0., 0., 0., 0., 0., 0., 0., 1., 0.]])"
     },
     "execution_count": 15,
     "metadata": {},
     "output_type": "execute_result"
    }
   ],
   "source": [
    "labels"
   ],
   "metadata": {
    "collapsed": false
   }
  },
  {
   "cell_type": "markdown",
   "source": [
    "# Loop to create complete set of training data"
   ],
   "metadata": {
    "collapsed": false
   }
  },
  {
   "cell_type": "code",
   "execution_count": 20,
   "outputs": [],
   "source": [
    "iter_tuple = (\n",
    "    (1, \"e1\"),\n",
    "    (2, \"f1\"),\n",
    "    (2, \"f2\"),\n",
    "    (3, \"fp1\"),\n",
    "    (4, \"h1\"),\n",
    "    (4, \"h2\"),\n",
    "    (5, \"l1\"),\n",
    "    (5, \"l2\"),\n",
    "    (6, \"ps1\"),\n",
    "    (7, \"r1\")\n",
    ")"
   ],
   "metadata": {
    "collapsed": false
   }
  },
  {
   "cell_type": "code",
   "execution_count": 22,
   "outputs": [
    {
     "name": "stderr",
     "output_type": "stream",
     "text": [
      "/home/thomas/.venv/py10_kitchensink/lib/python3.10/site-packages/scipy/optimize/_minpack_py.py:881: OptimizeWarning: Covariance of the parameters could not be estimated\n",
      "  warnings.warn('Covariance of the parameters could not be estimated',\n"
     ]
    },
    {
     "name": "stdout",
     "output_type": "stream",
     "text": [
      "WARNING: FIT NOT POSSIBLE\n"
     ]
    },
    {
     "ename": "ValueError",
     "evalue": "cannot reshape array of size 452804603 into shape (131072)",
     "output_type": "error",
     "traceback": [
      "\u001B[0;31m---------------------------------------------------------------------------\u001B[0m",
      "\u001B[0;31mValueError\u001B[0m                                Traceback (most recent call last)",
      "Cell \u001B[0;32mIn[22], line 6\u001B[0m\n\u001B[1;32m      4\u001B[0m \u001B[38;5;28;01mfor\u001B[39;00m appliance_id, appliance_folder \u001B[38;5;129;01min\u001B[39;00m iter_tuple:\n\u001B[1;32m      5\u001B[0m     apparent_power_binary \u001B[38;5;241m=\u001B[39m \u001B[38;5;124mf\u001B[39m\u001B[38;5;124m\"\u001B[39m\u001B[38;5;132;01m{\u001B[39;00mAPPARENT_POWER_BINARY_PREFIX\u001B[38;5;132;01m}\u001B[39;00m\u001B[38;5;132;01m{\u001B[39;00mappliance_folder\u001B[38;5;241m.\u001B[39mupper()\u001B[38;5;132;01m}\u001B[39;00m\u001B[38;5;132;01m{\u001B[39;00mAPPARENT_POWER_BINARY_POSTFIX\u001B[38;5;132;01m}\u001B[39;00m\u001B[38;5;124m\"\u001B[39m\n\u001B[0;32m----> 6\u001B[0m     features, temp_labels \u001B[38;5;241m=\u001B[39m \u001B[43mmake_labeled_training_data\u001B[49m\u001B[43m(\u001B[49m\n\u001B[1;32m      7\u001B[0m \u001B[43m        \u001B[49m\u001B[43mtraining_file\u001B[49m\u001B[38;5;241;43m=\u001B[39;49m\u001B[38;5;124;43mf\u001B[39;49m\u001B[38;5;124;43m\"\u001B[39;49m\u001B[38;5;132;43;01m{\u001B[39;49;00m\u001B[43mRAW_DATA_BASE_FOLDER\u001B[49m\u001B[38;5;132;43;01m}\u001B[39;49;00m\u001B[38;5;124;43m/\u001B[39;49m\u001B[38;5;132;43;01m{\u001B[39;49;00m\u001B[43mappliance_folder\u001B[49m\u001B[38;5;132;43;01m}\u001B[39;49;00m\u001B[38;5;124;43m/\u001B[39;49m\u001B[38;5;132;43;01m{\u001B[39;49;00m\u001B[43mapparent_power_binary\u001B[49m\u001B[38;5;132;43;01m}\u001B[39;49;00m\u001B[38;5;124;43m\"\u001B[39;49m\u001B[43m,\u001B[49m\n\u001B[1;32m      8\u001B[0m \u001B[43m        \u001B[49m\u001B[43mparameter_file\u001B[49m\u001B[38;5;241;43m=\u001B[39;49m\u001B[43mPARAMETER_FILE\u001B[49m\u001B[43m,\u001B[49m\n\u001B[1;32m      9\u001B[0m \u001B[43m        \u001B[49m\u001B[43mpercentage\u001B[49m\u001B[38;5;241;43m=\u001B[39;49m\u001B[43mpercentage\u001B[49m\n\u001B[1;32m     10\u001B[0m \u001B[43m    \u001B[49m\u001B[43m)\u001B[49m\n\u001B[1;32m     12\u001B[0m     labels \u001B[38;5;241m=\u001B[39m explode_to_complete_label_vector(\n\u001B[1;32m     13\u001B[0m         labels\u001B[38;5;241m=\u001B[39mtemp_labels,\n\u001B[1;32m     14\u001B[0m         appliance_id\u001B[38;5;241m=\u001B[39mappliance_id,\n\u001B[1;32m     15\u001B[0m         parameter_file\u001B[38;5;241m=\u001B[39mPARAMETER_FILE\n\u001B[1;32m     16\u001B[0m     )\n\u001B[1;32m     18\u001B[0m     feature_list\u001B[38;5;241m.\u001B[39mappend(features)\n",
      "File \u001B[0;32m~/projects/fair/call_3/repository/src/pulsed_power_ml/notebooks/../../../src/pulsed_power_ml/model_framework/training_data_labelling.py:141\u001B[0m, in \u001B[0;36mmake_labeled_training_data\u001B[0;34m(training_file, parameter_file, percentage)\u001B[0m\n\u001B[1;32m    139\u001B[0m \u001B[38;5;66;03m# 1 load specturm array\u001B[39;00m\n\u001B[1;32m    140\u001B[0m pars \u001B[38;5;241m=\u001B[39m read_parameters(parameter_file)\n\u001B[0;32m--> 141\u001B[0m spectra \u001B[38;5;241m=\u001B[39m \u001B[43mload_fft_file\u001B[49m\u001B[43m(\u001B[49m\u001B[43mtraining_file\u001B[49m\u001B[43m,\u001B[49m\u001B[43m \u001B[49m\u001B[43mpars\u001B[49m\u001B[43m[\u001B[49m\u001B[38;5;124;43m\"\u001B[39;49m\u001B[38;5;124;43mfft_size\u001B[39;49m\u001B[38;5;124;43m\"\u001B[39;49m\u001B[43m]\u001B[49m\u001B[43m)\u001B[49m\n\u001B[1;32m    142\u001B[0m \u001B[38;5;66;03m# take only percentage of spectrum into account \u001B[39;00m\n\u001B[1;32m    143\u001B[0m spectra \u001B[38;5;241m=\u001B[39m spectra[\u001B[38;5;241m0\u001B[39m:\u001B[38;5;28mint\u001B[39m(\u001B[38;5;28mlen\u001B[39m(spectra)\u001B[38;5;241m*\u001B[39mpercentage)]\n",
      "File \u001B[0;32m~/projects/fair/call_3/repository/src/pulsed_power_ml/notebooks/../../../src/pulsed_power_ml/model_framework/data_io.py:36\u001B[0m, in \u001B[0;36mload_fft_file\u001B[0;34m(path_to_file, fft_size)\u001B[0m\n\u001B[1;32m     19\u001B[0m \u001B[38;5;28;01mdef\u001B[39;00m \u001B[38;5;21mload_fft_file\u001B[39m(path_to_file: \u001B[38;5;28mstr\u001B[39m,\n\u001B[1;32m     20\u001B[0m                   fft_size: \u001B[38;5;28mint\u001B[39m) \u001B[38;5;241m-\u001B[39m\u001B[38;5;241m>\u001B[39m np\u001B[38;5;241m.\u001B[39marray:\n\u001B[1;32m     21\u001B[0m     \u001B[38;5;124;03m\"\"\"\u001B[39;00m\n\u001B[1;32m     22\u001B[0m \u001B[38;5;124;03m    Load and transform a fft spectrum from a binary file and reshape it to a 2d-array with timestep on axis 0 and\u001B[39;00m\n\u001B[1;32m     23\u001B[0m \u001B[38;5;124;03m    frequency bins on axis 1.\u001B[39;00m\n\u001B[0;32m   (...)\u001B[0m\n\u001B[1;32m     34\u001B[0m \u001B[38;5;124;03m    Array with timestep versus real part of the spectrum\u001B[39;00m\n\u001B[1;32m     35\u001B[0m \u001B[38;5;124;03m    \"\"\"\u001B[39;00m\n\u001B[0;32m---> 36\u001B[0m     full_spectrum \u001B[38;5;241m=\u001B[39m \u001B[43mnp\u001B[49m\u001B[38;5;241;43m.\u001B[39;49m\u001B[43mfromfile\u001B[49m\u001B[43m(\u001B[49m\u001B[43mpath_to_file\u001B[49m\u001B[43m,\u001B[49m\u001B[43m \u001B[49m\u001B[43mdtype\u001B[49m\u001B[38;5;241;43m=\u001B[39;49m\u001B[43mnp\u001B[49m\u001B[38;5;241;43m.\u001B[39;49m\u001B[43mfloat32\u001B[49m\u001B[43m)\u001B[49m\u001B[38;5;241;43m.\u001B[39;49m\u001B[43mreshape\u001B[49m\u001B[43m(\u001B[49m\u001B[43m(\u001B[49m\u001B[38;5;241;43m-\u001B[39;49m\u001B[38;5;241;43m1\u001B[39;49m\u001B[43m,\u001B[49m\u001B[43m \u001B[49m\u001B[43mfft_size\u001B[49m\u001B[43m)\u001B[49m\u001B[43m)\u001B[49m\n\u001B[1;32m     37\u001B[0m     real_part \u001B[38;5;241m=\u001B[39m full_spectrum[:, \u001B[38;5;241m0\u001B[39m:\u001B[38;5;28mint\u001B[39m(fft_size\u001B[38;5;241m/\u001B[39m\u001B[38;5;241m2\u001B[39m)]\n\u001B[1;32m     38\u001B[0m     \u001B[38;5;28;01mreturn\u001B[39;00m real_part\n",
      "\u001B[0;31mValueError\u001B[0m: cannot reshape array of size 452804603 into shape (131072)"
     ]
    }
   ],
   "source": [
    "feature_list = list()\n",
    "label_list = list()\n",
    "for percentage in [1.0]:\n",
    "    for appliance_id, appliance_folder in iter_tuple:\n",
    "        apparent_power_binary = f\"{APPARENT_POWER_BINARY_PREFIX}{appliance_folder.upper()}{APPARENT_POWER_BINARY_POSTFIX}\"\n",
    "        features, temp_labels = make_labeled_training_data(\n",
    "            training_file=f\"{RAW_DATA_BASE_FOLDER}/{appliance_folder}/{apparent_power_binary}\",\n",
    "            parameter_file=PARAMETER_FILE,\n",
    "            percentage=percentage\n",
    "        )\n",
    "\n",
    "        labels = explode_to_complete_label_vector(\n",
    "            labels=temp_labels,\n",
    "            appliance_id=appliance_id,\n",
    "            parameter_file=PARAMETER_FILE\n",
    "        )\n",
    "\n",
    "        feature_list.append(features)\n",
    "        label_list.append(labels)"
   ],
   "metadata": {
    "collapsed": false
   }
  },
  {
   "cell_type": "code",
   "execution_count": null,
   "outputs": [],
   "source": [],
   "metadata": {
    "collapsed": false
   }
  }
 ],
 "metadata": {
  "kernelspec": {
   "display_name": "Python 3",
   "language": "python",
   "name": "python3"
  },
  "language_info": {
   "codemirror_mode": {
    "name": "ipython",
    "version": 2
   },
   "file_extension": ".py",
   "mimetype": "text/x-python",
   "name": "python",
   "nbconvert_exporter": "python",
   "pygments_lexer": "ipython2",
   "version": "2.7.6"
  }
 },
 "nbformat": 4,
 "nbformat_minor": 0
}
